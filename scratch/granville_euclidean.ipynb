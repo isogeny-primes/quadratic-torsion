{
 "cells": [
  {
   "cell_type": "code",
   "execution_count": null,
   "metadata": {},
   "outputs": [],
   "source": [
    "import numpy as np\n",
    "import matplotlib.pylab as plt\n",
    "from shapely.geometry import Polygon\n",
    "\n",
    "# Use Green's theorem to compute the area\n",
    "# enclosed by the given contour.\n",
    "def area(vs):\n",
    "    a = 0\n",
    "    x0,y0 = vs[0]\n",
    "    for [x1,y1] in vs[1:]:\n",
    "        dx = x1-x0\n",
    "        dy = y1-y0\n",
    "        a += 0.5*(y0*dx - x0*dy)\n",
    "        x0 = x1\n",
    "        y0 = y1\n",
    "    return a\n",
    "\n",
    "def radial_sort_line(x, y):\n",
    "    \"\"\"Sort unordered verts of an unclosed line by angle from their center.\"\"\"\n",
    "    # Radial sort\n",
    "    x0, y0 = x.mean(), y.mean()\n",
    "    angle = np.arctan2(y - y0, x - x0)\n",
    "\n",
    "    idx = angle.argsort()\n",
    "    x, y = x[idx], y[idx]\n",
    "\n",
    "    # Split at opening in line\n",
    "    dx = np.diff(np.append(x, x[-1]))\n",
    "    dy = np.diff(np.append(y, y[-1]))\n",
    "    max_gap = np.abs(np.hypot(dx, dy)).argmax() + 1\n",
    "\n",
    "    x = np.append(x[max_gap:], x[:max_gap])\n",
    "    y = np.append(y[max_gap:], y[:max_gap])\n",
    "    return x, y\n",
    "\n",
    "# Generate some test data.\n",
    "delta = 0.01\n",
    "x = np.arange(-3.1, 3.1, delta)\n",
    "y = np.arange(-3.1, 3.1, delta)\n",
    "X, Z = np.meshgrid(x, y)\n",
    "r = X*Z*(X**2+Z**2)*(X**2+2*X*Z-Z**2)\n",
    "\n",
    "# Plot the data\n",
    "levels = [-1.0,1.0]\n",
    "cs = plt.contour(X,Z,r,levels=levels)\n",
    "plt.clabel(cs, inline=False, fontsize=10)\n",
    "\n",
    "# Get one of the contours from the plot.\n",
    "\n",
    "paths_to_concat = []\n",
    "for i in range(len(levels)):\n",
    "    contour = cs.collections[i]\n",
    "    # vs = contour.get_paths()[0].vertices\n",
    "    paths = contour.get_paths()\n",
    "    for path in paths:\n",
    "        vs = path.vertices\n",
    "        paths_to_concat.append(vs)"
   ]
  },
  {
   "cell_type": "code",
   "execution_count": null,
   "metadata": {},
   "outputs": [],
   "source": [
    "contour=np.concatenate(paths_to_concat,axis=0)\n",
    "plt.scatter(contour[:, 0], contour[:, 1])\n",
    "plt.show()"
   ]
  },
  {
   "cell_type": "code",
   "execution_count": null,
   "metadata": {},
   "outputs": [],
   "source": [
    "x = contour[:, 0]\n",
    "y = contour[:, 1]\n",
    "\n",
    "x, y = radial_sort_line(x, y)\n",
    "contour = np.column_stack((x,y))\n",
    "polygon = Polygon(contour)\n",
    "polygon"
   ]
  },
  {
   "cell_type": "code",
   "execution_count": null,
   "metadata": {},
   "outputs": [],
   "source": [
    "polygon.area"
   ]
  }
 ],
 "metadata": {
  "language_info": {
   "name": "python"
  }
 },
 "nbformat": 4,
 "nbformat_minor": 2
}
